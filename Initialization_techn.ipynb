{
  "nbformat": 4,
  "nbformat_minor": 0,
  "metadata": {
    "accelerator": "GPU",
    "colab": {
      "name": "Initialization_techn.ipynb",
      "provenance": [],
      "authorship_tag": "ABX9TyMEqkCCKzBH7AXYjsGR4LAM",
      "include_colab_link": true
    },
    "kernelspec": {
      "display_name": "Python 3",
      "name": "python3"
    }
  },
  "cells": [
    {
      "cell_type": "markdown",
      "metadata": {
        "id": "view-in-github",
        "colab_type": "text"
      },
      "source": [
        "<a href=\"https://colab.research.google.com/github/souayboss/Deep_learning/blob/main/Initialization_techn.ipynb\" target=\"_parent\"><img src=\"https://colab.research.google.com/assets/colab-badge.svg\" alt=\"Open In Colab\"/></a>"
      ]
    },
    {
      "cell_type": "code",
      "metadata": {
        "id": "F3x8ezyNwVK-"
      },
      "source": [
        "import numpy as np\n",
        "import time \n",
        "import pickle as pk\n",
        "from google.colab import drive\n",
        "import tensorflow as tf\n",
        "from keras.datasets import cifar10\n",
        "from tensorflow.keras.layers import Dense , Conv2D, concatenate, MaxPooling2D, UpSampling2D, Input \n",
        "from tensorflow.keras.layers import Softmax, Dropout, Flatten,  ReLU, concatenate, BatchNormalization\n",
        "from tensorflow.keras import Model as Model_ , Sequential\n",
        "# drive.mount('/content/gdrive', force_remount=True)i"
      ],
      "execution_count": null,
      "outputs": []
    },
    {
      "cell_type": "code",
      "metadata": {
        "id": "B_lsWgOnwbc6",
        "colab": {
          "base_uri": "https://localhost:8080/"
        },
        "outputId": "2cbae31c-eca3-4dc6-cf27-5ce960aec8a9"
      },
      "source": [
        "# WRAP THESE ON A FUNCTION or CLASS CALL!\n",
        "(x_train, y_train), (x_test, y_test) = cifar10.load_data()\n",
        "x_train = x_train/255.\n",
        "x_test  = x_test / 255."
      ],
      "execution_count": null,
      "outputs": [
        {
          "output_type": "stream",
          "text": [
            "Downloading data from https://www.cs.toronto.edu/~kriz/cifar-10-python.tar.gz\n",
            "170500096/170498071 [==============================] - 2s 0us/step\n"
          ],
          "name": "stdout"
        }
      ]
    },
    {
      "cell_type": "code",
      "metadata": {
        "id": "dyLDovH6nl5d"
      },
      "source": [
        "from tensorflow.keras.layers import BatchNormalization\n",
        "class KGene_conv_b(Model_):\n",
        "  def __init__(self, outchannel, kernel=3, stride=1, padding='valid', pool=False, Batchnorm=False, prebatch=True, init_ref=\"he_uniform\"):\n",
        "    super(KGene_conv_b, self).__init__() \n",
        "    layer_block = [Conv2D(outchannel, kernel_size=kernel, strides=stride, padding=padding, kernel_initializer=init_ref),ReLU()]\n",
        "    if pool:\n",
        "      layer_block.append(MaxPooling2D((3,3),strides=2))\n",
        "    if Batchnorm:\n",
        "      layer_block.append(BatchNormalization())\n",
        "    if prebatch:\n",
        "      layer_block = [Conv2D(outchannel, kernel_size=kernel, strides=stride, padding=padding, kernel_initializer=init_ref), BatchNormalization( ),\n",
        "                     ReLU()]\n",
        "      if pool:\n",
        "        layer_block.append(MaxPooling2D((3,3),strides=2))\n",
        "\n",
        "    self.conv = Sequential(layer_block)\n",
        "  def call(self, x):\n",
        "    conv = self.conv(x)\n",
        "    return conv\n",
        "  \n",
        "    \n",
        "class KGene_fully_block(Model_):\n",
        "  def __init__(self, outsize, dropout, init_ref):\n",
        "    super(KGene_fully_block, self).__init__()\n",
        "    self.fc = Sequential([                        \n",
        "      Dense(outsize, kernel_initializer=init_ref),\n",
        "      ReLU(),\n",
        "      Dropout(dropout),\n",
        "    ])\n",
        "  def call(self, x):\n",
        "    return self.fc(x)\n",
        "\n",
        "class Generic32Batch(Model_):\n",
        "  def __init__(self, dropout=0.5, batchnorm=True, init_ref=\"he_uniform\"):\n",
        "    super(Generic32Batch, self).__init__()\n",
        "    self.conv1 = KGene_conv_b(32, padding='same', Batchnorm=batchnorm, init_ref=init_ref)\n",
        "    self.conv2 = KGene_conv_b(64,kernel=3, padding='same',pool=True, Batchnorm=batchnorm, init_ref=init_ref)\n",
        "    self.conv3 = KGene_conv_b(128,kernel=3, padding='same',init_ref=init_ref) \n",
        "    self.conv4 = KGene_conv_b(128,kernel=3, padding='same',init_ref=init_ref)\n",
        "    self.conv5 = KGene_conv_b(256,kernel=3, padding='same',init_ref=init_ref,pool=True)\n",
        "    self.flatt  = Flatten()\n",
        "    self.avg_pool = tf.keras.layers.AveragePooling2D(pool_size=(2,2))\n",
        "    self.fc1   = KGene_fully_block(1024,dropout, init_ref=init_ref)\n",
        "    self.fc2   = KGene_fully_block(1024,dropout, init_ref=init_ref)\n",
        "    self.out   = Dense(10)\n",
        "    self.softmax = Softmax()\n",
        "\n",
        "  def call(self, input_x):\n",
        "    x = self.conv1(input_x)\n",
        "    x = self.conv2(x)\n",
        "    x = self.conv3(x)\n",
        "    x = self.conv4(x)\n",
        "    x = self.conv5(x)\n",
        "    x = self.avg_pool(x)\n",
        "    x = self.flatt(x)  \n",
        "    x = self.fc1(x)\n",
        "    x = self.fc2(x)\n",
        "    \n",
        "    out = self.out(x)\n",
        "    out = self.softmax(out)\n",
        "    return out\n",
        "    \n",
        "\n",
        "\n",
        "# model = Sequential()\n",
        "# model.add(Conv2D(filters = 32, kernel_size = (3, 3),\n",
        "#           input_shape = (32, 32, 3),\n",
        "#           activation = 'relu'))\n",
        "# model.add(MaxPooling2D(pool_size = (2, 2)))\n",
        "# model.add(Conv2D(32, 3, 3, activation = 'relu'))\n",
        "# model.add(MaxPooling2D(pool_size = (2, 2)))\n",
        "# model.add(Flatten())\n",
        "# model.add(Dense(units = 128, activation = 'relu'))\n",
        "# model.add(Dense(units = 10, activation = 'softmax'))"
      ],
      "execution_count": null,
      "outputs": []
    },
    {
      "cell_type": "code",
      "metadata": {
        "id": "IzOPxTRrnpfG"
      },
      "source": [
        "model = Generic32Batch()\n",
        "Optim = Optimizer(model, mb=32)\n"
      ],
      "execution_count": null,
      "outputs": []
    },
    {
      "cell_type": "code",
      "metadata": {
        "colab": {
          "base_uri": "https://localhost:8080/"
        },
        "id": "IgKgAfaUqQGU",
        "outputId": "fad9d829-5d1b-4a16-e058-6a2222fdb296"
      },
      "source": [
        "%time trl, tsl, tra,tsa = Optim.run(x_train, y_train, x_test, y_test, epochs=10)"
      ],
      "execution_count": null,
      "outputs": [
        {
          "output_type": "stream",
          "text": [
            "epoch:  1,  TRAIN LOSS:  1.735732157681893, TEST LOSS:  1.2893610223413656,  TRAIN ACC:  38.42, TEST ACC:  54.949999999999996\n",
            "epoch:  2,  TRAIN LOSS:  1.0475260678080511, TEST LOSS:  0.9542749342255699,  TRAIN ACC:  63.754, TEST ACC:  66.25999999999999\n",
            "epoch:  3,  TRAIN LOSS:  0.7974077291400556, TEST LOSS:  0.8967943204858433,  TRAIN ACC:  72.744, TEST ACC:  69.66\n",
            "epoch:  4,  TRAIN LOSS:  0.6654484946702584, TEST LOSS:  0.753165546126259,  TRAIN ACC:  77.78399999999999, TEST ACC:  74.71\n",
            "epoch:  5,  TRAIN LOSS:  0.5535016564779837, TEST LOSS:  0.7031292591612941,  TRAIN ACC:  81.434, TEST ACC:  77.03\n",
            "epoch:  6,  TRAIN LOSS:  0.4727440824468816, TEST LOSS:  0.5687971408374775,  TRAIN ACC:  84.176, TEST ACC:  80.65\n",
            "epoch:  7,  TRAIN LOSS:  0.4124256858193409, TEST LOSS:  0.6092192958623838,  TRAIN ACC:  86.198, TEST ACC:  80.39\n",
            "epoch:  8,  TRAIN LOSS:  0.35761653313261915, TEST LOSS:  0.614938711348814,  TRAIN ACC:  88.068, TEST ACC:  79.84\n",
            "epoch:  9,  TRAIN LOSS:  0.31718587838661494, TEST LOSS:  0.7171681261005493,  TRAIN ACC:  89.24600000000001, TEST ACC:  78.46\n",
            "epoch:  10,  TRAIN LOSS:  0.2796185882053006, TEST LOSS:  0.6279095065431853,  TRAIN ACC:  90.476, TEST ACC:  81.07\n",
            "Training: complete!\n",
            "CPU times: user 2min 51s, sys: 26.3 s, total: 3min 17s\n",
            "Wall time: 11min 19s\n"
          ],
          "name": "stdout"
        }
      ]
    },
    {
      "cell_type": "code",
      "metadata": {
        "id": "Z32XY2qvnt9I"
      },
      "source": [
        "model.compile(optimizer='adam', loss='sparse_categorical_crossentropy', metrics=['accuracy'])"
      ],
      "execution_count": null,
      "outputs": []
    },
    {
      "cell_type": "code",
      "metadata": {
        "colab": {
          "base_uri": "https://localhost:8080/"
        },
        "id": "8iqSz-ivntzk",
        "outputId": "3ca0ae23-dcc5-45bc-95ec-1d561f893d78"
      },
      "source": [
        "%time model.fit(x_train, y_train, batch_size=32, epochs=10, validation_data=(x_test, y_test))"
      ],
      "execution_count": null,
      "outputs": [
        {
          "output_type": "stream",
          "text": [
            "Epoch 1/10\n",
            "1563/1563 [==============================] - 15s 9ms/step - loss: 2.2883 - accuracy: 0.3012 - val_loss: 1.2035 - val_accuracy: 0.5793\n",
            "Epoch 2/10\n",
            "1563/1563 [==============================] - 13s 8ms/step - loss: 1.0700 - accuracy: 0.6264 - val_loss: 0.8947 - val_accuracy: 0.6930\n",
            "Epoch 3/10\n",
            "1563/1563 [==============================] - 13s 8ms/step - loss: 0.8075 - accuracy: 0.7231 - val_loss: 0.7114 - val_accuracy: 0.7589\n",
            "Epoch 4/10\n",
            "1563/1563 [==============================] - 13s 9ms/step - loss: 0.6647 - accuracy: 0.7750 - val_loss: 0.6665 - val_accuracy: 0.7712\n",
            "Epoch 5/10\n",
            "1563/1563 [==============================] - 13s 8ms/step - loss: 0.5565 - accuracy: 0.8152 - val_loss: 0.6908 - val_accuracy: 0.7673\n",
            "Epoch 6/10\n",
            "1563/1563 [==============================] - 13s 8ms/step - loss: 0.4794 - accuracy: 0.8411 - val_loss: 0.5413 - val_accuracy: 0.8183\n",
            "Epoch 7/10\n",
            "1563/1563 [==============================] - 13s 8ms/step - loss: 0.4151 - accuracy: 0.8607 - val_loss: 0.7839 - val_accuracy: 0.7480\n",
            "Epoch 8/10\n",
            "1563/1563 [==============================] - 13s 8ms/step - loss: 0.3570 - accuracy: 0.8800 - val_loss: 0.5950 - val_accuracy: 0.8111\n",
            "Epoch 9/10\n",
            "1563/1563 [==============================] - 13s 8ms/step - loss: 0.3244 - accuracy: 0.8902 - val_loss: 0.5457 - val_accuracy: 0.8212\n",
            "Epoch 10/10\n",
            "1563/1563 [==============================] - 13s 8ms/step - loss: 0.2768 - accuracy: 0.9055 - val_loss: 0.5397 - val_accuracy: 0.8281\n",
            "CPU times: user 2min 1s, sys: 25.2 s, total: 2min 26s\n",
            "Wall time: 2min 14s\n"
          ],
          "name": "stdout"
        },
        {
          "output_type": "execute_result",
          "data": {
            "text/plain": [
              "<tensorflow.python.keras.callbacks.History at 0x7fe0ac237208>"
            ]
          },
          "metadata": {
            "tags": []
          },
          "execution_count": 14
        }
      ]
    },
    {
      "cell_type": "code",
      "metadata": {
        "id": "jUYTgI7E2C46"
      },
      "source": [
        " \n",
        "import tensorflow as tf\n",
        "import os\n",
        "tf.keras.backend.set_floatx('float64')\n",
        "\n",
        "class Optimizer:\n",
        "  def __init__(self, model, mb = 8, lr = 0.001, loss = tf.keras.losses.SparseCategoricalCrossentropy, opt=tf.keras.optimizers.Adam):\n",
        "     \n",
        "    self.model     = model\n",
        "    self.loss      = loss()\n",
        "    self.optimizer = opt(learning_rate = lr)  # initialize the optimizer with the given lerning rate\n",
        "    self.mb        = mb\n",
        "    self.train_loss     = tf.keras.metrics.Mean(name='train_loss')  # hold the training loss\n",
        "\n",
        "    self.train_accuracy = tf.keras.metrics.SparseCategoricalAccuracy(name='train_accuracy')\n",
        "\n",
        "    self.test_loss     = tf.keras.metrics.Mean(name='test_loss')\n",
        "    self.test_accuracy = tf.keras.metrics.SparseCategoricalAccuracy(name='test_accuracy')\n",
        "\n",
        "  @tf.function\n",
        "  def train_step(self, x , y):\n",
        "    with tf.GradientTape() as tape:           # Record operations for automatic differentiation ()\n",
        "      predictions = self.model(x,training=True)\n",
        "      loss = self.loss(y, predictions)        # calculting the loss\n",
        "    gradients = tape.gradient(loss, self.model.trainable_variables)\n",
        "    self.optimizer.apply_gradients(zip(gradients, self.model.trainable_variables)) # backpropagating\n",
        "    self.train_loss(loss)                     # recording the training loss\n",
        "    self.train_accuracy(y, predictions)\n",
        "    return loss\n",
        "\n",
        "  @tf.function\n",
        "  def test_step(self, x , y):\n",
        "    predictions = self.model(x, training=False)\n",
        "    loss = self.loss(y, predictions)\n",
        "    self.test_loss(loss)                      #recording the test loss\n",
        "    self.test_accuracy(y, predictions)\n",
        "\n",
        "  def train (self):\n",
        "    for mbX, mbY in self.train_ds:\n",
        "      self.train_step(mbX, mbY)\n",
        "\n",
        "\n",
        "  def test  (self):\n",
        "    for mbX, mbY in self.test_ds:\n",
        "      self.test_step(mbX, mbY)\n",
        "  def run(self, dataX, dataY, testX, testY, epochs, verbose=2 ):\n",
        "    historyTR = []\n",
        "    historyTS = []\n",
        "    historyTRAC = []\n",
        "    historyTSAC = []\n",
        "     \n",
        "    template = '{} {}, {} {},{} {}, {} {},{} {}'\n",
        "    # shuffle the training data with a buffer size of 16000\n",
        "    self.train_ds = tf.data.Dataset.from_tensor_slices((dataX, dataY)).shuffle(1000).batch(self.mb)\n",
        "    self.test_ds  = tf.data.Dataset.from_tensor_slices((testX,testY)).batch(self.mb)\n",
        "    for epoch in range(epochs):\n",
        "\n",
        "        self.train ()\n",
        "        self.test()\n",
        "        \n",
        "        if verbose > 0:\n",
        "            print(template.format(\"epoch: \", epoch+1,\n",
        "                          \" TRAIN LOSS: \", self.train_loss.result(),\n",
        "                          \" TEST LOSS: \" , self.test_loss.result(),\n",
        "                          \" TRAIN ACC: \" , self.train_accuracy.result()*100,\n",
        "                          \" TEST ACC: \"  , self.test_accuracy.result()*100)\n",
        "            )\n",
        "        temp = '{}'\n",
        "        historyTR.append(float(temp.format(self.train_loss.result())))\n",
        "        historyTS.append(float(temp.format(self.test_loss.result() )))\n",
        "        historyTRAC.append(float(temp.format(self.train_accuracy.result())))\n",
        "        historyTSAC.append(float(temp.format(self.test_accuracy.result())))\n",
        "\n",
        "        self.train_loss.reset_states()\n",
        "        self.train_accuracy.reset_states()\n",
        "        self.test_loss.reset_states()\n",
        "        self.test_accuracy.reset_states()\n",
        "    print('Training: complete!')\n",
        "    return historyTR,historyTS, historyTRAC,historyTSAC"
      ],
      "execution_count": null,
      "outputs": []
    },
    {
      "cell_type": "markdown",
      "metadata": {
        "id": "zPrGOGYZ4D6f"
      },
      "source": [
        "# Using He/ kaiming initializer "
      ]
    },
    {
      "cell_type": "code",
      "metadata": {
        "id": "sYh82OQJ2ER5"
      },
      "source": [
        "from tensorflow.keras.layers import BatchNormalization\n",
        "class KGene_conv_b(Model_):\n",
        "  def __init__(self, outchannel, kernel=3, stride=1, padding='valid', pool=False, Batchnorm=False, prebatch=True, init_ref=\"he_uniform\"):\n",
        "    super(KGene_conv_b, self).__init__() \n",
        "    layer_block = [Conv2D(outchannel, kernel_size=kernel, strides=stride, padding=padding, kernel_initializer=init_ref),ReLU()]\n",
        "    if pool:\n",
        "      layer_block.append(MaxPooling2D((3,3),strides=2))\n",
        "    if Batchnorm:\n",
        "      layer_block.append(BatchNormalization())\n",
        "    if prebatch:\n",
        "      layer_block = [Conv2D(outchannel, kernel_size=kernel, strides=stride, padding=padding, kernel_initializer=init_ref), BatchNormalization( ),\n",
        "                     ReLU()]\n",
        "      if pool:\n",
        "        layer_block.append(MaxPooling2D((3,3),strides=2))\n",
        "\n",
        "    self.conv = Sequential(layer_block)\n",
        "  def call(self, x):\n",
        "    conv = self.conv(x)\n",
        "    return conv\n",
        "  \n",
        "    \n",
        "class KGene_fully_block(Model_):\n",
        "  def __init__(self, outsize, dropout, init_ref):\n",
        "    super(KGene_fully_block, self).__init__()\n",
        "    self.fc = Sequential([                        \n",
        "      Dense(outsize, kernel_initializer=init_ref),\n",
        "      ReLU(),\n",
        "      Dropout(dropout),\n",
        "    ])\n",
        "  def call(self, x):\n",
        "    return self.fc(x)\n",
        "\n",
        "class Generic32Batch(Model_):\n",
        "  def __init__(self, dropout=0.5, batchnorm=True, init_ref=\"he_uniform\"):\n",
        "    super(Generic32Batch, self).__init__()\n",
        "    self.conv1 = KGene_conv_b(32, padding='same', Batchnorm=batchnorm, init_ref=init_ref)\n",
        "    self.conv2 = KGene_conv_b(64,kernel=3, padding='same',pool=True, Batchnorm=batchnorm, init_ref=init_ref)\n",
        "    self.conv3 = KGene_conv_b(128,kernel=3, padding='same',init_ref=init_ref) \n",
        "    self.conv4 = KGene_conv_b(128,kernel=3, padding='same',init_ref=init_ref)\n",
        "    self.conv5 = KGene_conv_b(256,kernel=3, padding='same',init_ref=init_ref,pool=True)\n",
        "    self.flatt  = Flatten()\n",
        "    self.avg_pool = tf.keras.layers.AveragePooling2D(pool_size=(2,2))\n",
        "    self.fc1   = KGene_fully_block(1024,dropout, init_ref=init_ref)\n",
        "    self.fc2   = KGene_fully_block(1024,dropout, init_ref=init_ref)\n",
        "    self.out   = Dense(10)\n",
        "    self.softmax = Softmax()\n",
        "\n",
        "  def call(self, input_x):\n",
        "    x = self.conv1(input_x)\n",
        "    x = self.conv2(x)\n",
        "    x = self.conv3(x)\n",
        "    x = self.conv4(x)\n",
        "    x = self.conv5(x)\n",
        "    x = self.avg_pool(x)\n",
        "    x = self.flatt(x)  \n",
        "    x = self.fc1(x)\n",
        "    x = self.fc2(x)\n",
        "    \n",
        "    out = self.out(x)\n",
        "    out = self.softmax(out)\n",
        "    return out\n",
        "    "
      ],
      "execution_count": null,
      "outputs": []
    },
    {
      "cell_type": "code",
      "metadata": {
        "id": "GAh-ow6X3vt1"
      },
      "source": [
        "gmodel32batch = Generic32Batch()"
      ],
      "execution_count": null,
      "outputs": []
    },
    {
      "cell_type": "code",
      "metadata": {
        "colab": {
          "base_uri": "https://localhost:8080/"
        },
        "id": "4eo9fnoB30au",
        "outputId": "13277c10-09af-4acb-a87f-4f1b4677dfd1"
      },
      "source": [
        "gmodel32batch.compile(optimizer='adam', loss='sparse_categorical_crossentropy', metrics=['accuracy'])\n",
        "hist = gmodel32batch.fit(x_train, y_train, batch_size=32, epochs=25, validation_data=(x_test, y_test))"
      ],
      "execution_count": null,
      "outputs": [
        {
          "output_type": "stream",
          "text": [
            "Epoch 1/25\n",
            "1563/1563 [==============================] - 16s 11ms/step - loss: 1.7112 - accuracy: 0.3938 - val_loss: 1.2346 - val_accuracy: 0.5626\n",
            "Epoch 2/25\n",
            "1563/1563 [==============================] - 16s 11ms/step - loss: 1.0683 - accuracy: 0.6250 - val_loss: 0.9229 - val_accuracy: 0.6834\n",
            "Epoch 3/25\n",
            "1563/1563 [==============================] - 16s 10ms/step - loss: 0.8059 - accuracy: 0.7235 - val_loss: 0.9210 - val_accuracy: 0.7001\n",
            "Epoch 4/25\n",
            "1563/1563 [==============================] - 16s 10ms/step - loss: 0.6640 - accuracy: 0.7780 - val_loss: 0.8114 - val_accuracy: 0.7328\n",
            "Epoch 5/25\n",
            "1563/1563 [==============================] - 16s 10ms/step - loss: 0.5557 - accuracy: 0.8127 - val_loss: 0.6037 - val_accuracy: 0.8044\n",
            "Epoch 6/25\n",
            "1563/1563 [==============================] - 16s 10ms/step - loss: 0.4822 - accuracy: 0.8398 - val_loss: 0.5772 - val_accuracy: 0.8029\n",
            "Epoch 7/25\n",
            "1563/1563 [==============================] - 16s 10ms/step - loss: 0.4157 - accuracy: 0.8607 - val_loss: 0.5617 - val_accuracy: 0.8138\n",
            "Epoch 8/25\n",
            "1563/1563 [==============================] - 16s 10ms/step - loss: 0.3641 - accuracy: 0.8786 - val_loss: 0.6190 - val_accuracy: 0.7973\n",
            "Epoch 9/25\n",
            "1563/1563 [==============================] - 16s 10ms/step - loss: 0.3121 - accuracy: 0.8952 - val_loss: 0.5490 - val_accuracy: 0.8263\n",
            "Epoch 10/25\n",
            "1563/1563 [==============================] - 16s 10ms/step - loss: 0.2821 - accuracy: 0.9049 - val_loss: 0.5568 - val_accuracy: 0.8237\n",
            "Epoch 11/25\n",
            "1563/1563 [==============================] - 16s 10ms/step - loss: 0.2486 - accuracy: 0.9174 - val_loss: 0.5356 - val_accuracy: 0.8333\n",
            "Epoch 12/25\n",
            "1563/1563 [==============================] - 16s 10ms/step - loss: 0.2226 - accuracy: 0.9258 - val_loss: 0.5170 - val_accuracy: 0.8409\n",
            "Epoch 13/25\n",
            "1563/1563 [==============================] - 16s 10ms/step - loss: 0.1990 - accuracy: 0.9327 - val_loss: 0.5514 - val_accuracy: 0.8404\n",
            "Epoch 14/25\n",
            "1563/1563 [==============================] - 16s 10ms/step - loss: 0.1887 - accuracy: 0.9391 - val_loss: 0.5347 - val_accuracy: 0.8393\n",
            "Epoch 15/25\n",
            "1563/1563 [==============================] - 16s 10ms/step - loss: 0.1703 - accuracy: 0.9437 - val_loss: 0.5495 - val_accuracy: 0.8383\n",
            "Epoch 16/25\n",
            "1563/1563 [==============================] - 16s 10ms/step - loss: 0.1624 - accuracy: 0.9469 - val_loss: 0.6138 - val_accuracy: 0.8326\n",
            "Epoch 17/25\n",
            "1563/1563 [==============================] - 16s 10ms/step - loss: 0.1448 - accuracy: 0.9518 - val_loss: 0.6275 - val_accuracy: 0.8405\n",
            "Epoch 18/25\n",
            "1563/1563 [==============================] - 16s 10ms/step - loss: 0.1443 - accuracy: 0.9538 - val_loss: 0.6158 - val_accuracy: 0.8360\n",
            "Epoch 19/25\n",
            "1563/1563 [==============================] - 16s 10ms/step - loss: 0.1301 - accuracy: 0.9587 - val_loss: 0.5969 - val_accuracy: 0.8489\n",
            "Epoch 20/25\n",
            "1563/1563 [==============================] - 16s 10ms/step - loss: 0.1260 - accuracy: 0.9614 - val_loss: 0.6705 - val_accuracy: 0.8387\n",
            "Epoch 21/25\n",
            "1563/1563 [==============================] - 16s 10ms/step - loss: 0.1170 - accuracy: 0.9630 - val_loss: 0.6768 - val_accuracy: 0.8353\n",
            "Epoch 22/25\n",
            "1563/1563 [==============================] - 16s 10ms/step - loss: 0.1167 - accuracy: 0.9628 - val_loss: 0.6874 - val_accuracy: 0.8351\n",
            "Epoch 23/25\n",
            "1563/1563 [==============================] - 16s 10ms/step - loss: 0.1103 - accuracy: 0.9652 - val_loss: 0.6821 - val_accuracy: 0.8432\n",
            "Epoch 24/25\n",
            "1563/1563 [==============================] - 16s 10ms/step - loss: 0.1073 - accuracy: 0.9669 - val_loss: 0.7356 - val_accuracy: 0.8345\n",
            "Epoch 25/25\n",
            "1563/1563 [==============================] - 16s 10ms/step - loss: 0.1043 - accuracy: 0.9685 - val_loss: 0.6248 - val_accuracy: 0.8540\n"
          ],
          "name": "stdout"
        }
      ]
    },
    {
      "cell_type": "code",
      "metadata": {
        "id": "fo1lHUSz32Sp"
      },
      "source": [
        "gmodel32batch_rand = Generic32Batch(init_ref='random_normal')"
      ],
      "execution_count": null,
      "outputs": []
    },
    {
      "cell_type": "code",
      "metadata": {
        "colab": {
          "base_uri": "https://localhost:8080/"
        },
        "id": "A16UhEgG754v",
        "outputId": "011d17c8-02a2-49e5-fc85-72fe0a35df4d"
      },
      "source": [
        "gmodel32batch_rand.compile(optimizer='adam', loss='sparse_categorical_crossentropy', metrics=['accuracy'])\n",
        "hist_norm = gmodel32batch_rand.fit(x_train, y_train, batch_size=32, epochs=25, validation_data=(x_test, y_test))"
      ],
      "execution_count": null,
      "outputs": [
        {
          "output_type": "stream",
          "text": [
            "Epoch 1/25\n",
            "1563/1563 [==============================] - 16s 10ms/step - loss: 1.8521 - accuracy: 0.3578 - val_loss: 1.4198 - val_accuracy: 0.4747\n",
            "Epoch 2/25\n",
            "1563/1563 [==============================] - 16s 10ms/step - loss: 1.1277 - accuracy: 0.6050 - val_loss: 1.0077 - val_accuracy: 0.6436\n",
            "Epoch 3/25\n",
            "1563/1563 [==============================] - 16s 10ms/step - loss: 0.8479 - accuracy: 0.7114 - val_loss: 0.7999 - val_accuracy: 0.7271\n",
            "Epoch 4/25\n",
            "1563/1563 [==============================] - 16s 10ms/step - loss: 0.6977 - accuracy: 0.7637 - val_loss: 0.6945 - val_accuracy: 0.7632\n",
            "Epoch 5/25\n",
            "1563/1563 [==============================] - 16s 10ms/step - loss: 0.5868 - accuracy: 0.8036 - val_loss: 0.6541 - val_accuracy: 0.7715\n",
            "Epoch 6/25\n",
            "1563/1563 [==============================] - 16s 10ms/step - loss: 0.5125 - accuracy: 0.8281 - val_loss: 0.5810 - val_accuracy: 0.8045\n",
            "Epoch 7/25\n",
            "1563/1563 [==============================] - 16s 10ms/step - loss: 0.4469 - accuracy: 0.8493 - val_loss: 0.5826 - val_accuracy: 0.8033\n",
            "Epoch 8/25\n",
            "1563/1563 [==============================] - 16s 10ms/step - loss: 0.3949 - accuracy: 0.8675 - val_loss: 0.6839 - val_accuracy: 0.7724\n",
            "Epoch 9/25\n",
            "1563/1563 [==============================] - 16s 10ms/step - loss: 0.3450 - accuracy: 0.8850 - val_loss: 0.5385 - val_accuracy: 0.8306\n",
            "Epoch 10/25\n",
            "1563/1563 [==============================] - 16s 10ms/step - loss: 0.3062 - accuracy: 0.8963 - val_loss: 0.6327 - val_accuracy: 0.7996\n",
            "Epoch 11/25\n",
            "1563/1563 [==============================] - 16s 10ms/step - loss: 0.2697 - accuracy: 0.9088 - val_loss: 0.5736 - val_accuracy: 0.8140\n",
            "Epoch 12/25\n",
            "1563/1563 [==============================] - 16s 10ms/step - loss: 0.2453 - accuracy: 0.9171 - val_loss: 0.5972 - val_accuracy: 0.8210\n",
            "Epoch 13/25\n",
            "1563/1563 [==============================] - 16s 10ms/step - loss: 0.2193 - accuracy: 0.9269 - val_loss: 0.5691 - val_accuracy: 0.8264\n",
            "Epoch 14/25\n",
            "1563/1563 [==============================] - 16s 10ms/step - loss: 0.2010 - accuracy: 0.9342 - val_loss: 0.5709 - val_accuracy: 0.8283\n",
            "Epoch 15/25\n",
            "1563/1563 [==============================] - 16s 10ms/step - loss: 0.1852 - accuracy: 0.9383 - val_loss: 0.6203 - val_accuracy: 0.8190\n",
            "Epoch 16/25\n",
            "1563/1563 [==============================] - 16s 10ms/step - loss: 0.1660 - accuracy: 0.9456 - val_loss: 0.5855 - val_accuracy: 0.8463\n",
            "Epoch 17/25\n",
            "1563/1563 [==============================] - 16s 10ms/step - loss: 0.1591 - accuracy: 0.9480 - val_loss: 0.7841 - val_accuracy: 0.8088\n",
            "Epoch 18/25\n",
            "1563/1563 [==============================] - 16s 10ms/step - loss: 0.1428 - accuracy: 0.9525 - val_loss: 0.6150 - val_accuracy: 0.8420\n",
            "Epoch 19/25\n",
            "1563/1563 [==============================] - 16s 10ms/step - loss: 0.1371 - accuracy: 0.9558 - val_loss: 0.6675 - val_accuracy: 0.8309\n",
            "Epoch 20/25\n",
            "1563/1563 [==============================] - 16s 10ms/step - loss: 0.1317 - accuracy: 0.9582 - val_loss: 0.6469 - val_accuracy: 0.8380\n",
            "Epoch 21/25\n",
            "1563/1563 [==============================] - 16s 10ms/step - loss: 0.1213 - accuracy: 0.9607 - val_loss: 0.6930 - val_accuracy: 0.8451\n",
            "Epoch 22/25\n",
            "1563/1563 [==============================] - 16s 10ms/step - loss: 0.1170 - accuracy: 0.9618 - val_loss: 0.6076 - val_accuracy: 0.8476\n",
            "Epoch 23/25\n",
            "1563/1563 [==============================] - 16s 10ms/step - loss: 0.1176 - accuracy: 0.9631 - val_loss: 0.6060 - val_accuracy: 0.8498\n",
            "Epoch 24/25\n",
            "1563/1563 [==============================] - 16s 10ms/step - loss: 0.1057 - accuracy: 0.9669 - val_loss: 0.7162 - val_accuracy: 0.8259\n",
            "Epoch 25/25\n",
            "1563/1563 [==============================] - 16s 10ms/step - loss: 0.1043 - accuracy: 0.9672 - val_loss: 0.6771 - val_accuracy: 0.8450\n"
          ],
          "name": "stdout"
        }
      ]
    },
    {
      "cell_type": "markdown",
      "metadata": {
        "id": "AlL-2kL_A4BU"
      },
      "source": [
        "# FIXING the FC Layer before the last and Kaiming/He initializer "
      ]
    },
    {
      "cell_type": "code",
      "metadata": {
        "id": "-W6Mw5DE8304"
      },
      "source": [
        "from tensorflow.keras.layers import BatchNormalization\n",
        "class KGene_conv_b(Model_):\n",
        "  def __init__(self, outchannel, kernel=3, stride=1, padding='valid', pool=False, Batchnorm=False, prebatch=True, init_ref=\"he_uniform\"):\n",
        "    super(KGene_conv_b, self).__init__() \n",
        "    layer_block = [Conv2D(outchannel, kernel_size=kernel, strides=stride, padding=padding, kernel_initializer=init_ref),ReLU()]\n",
        "    if pool:\n",
        "      layer_block.append(MaxPooling2D((3,3),strides=2))\n",
        "    if Batchnorm:\n",
        "      layer_block.append(BatchNormalization())\n",
        "    if prebatch:\n",
        "      layer_block = [Conv2D(outchannel, kernel_size=kernel, strides=stride, padding=padding, kernel_initializer=init_ref), BatchNormalization( ),\n",
        "                     ReLU()]\n",
        "      if pool:\n",
        "        layer_block.append(MaxPooling2D((3,3),strides=2))\n",
        "\n",
        "    self.conv = Sequential(layer_block)\n",
        "  def call(self, x):\n",
        "    conv = self.conv(x)\n",
        "    return conv\n",
        "  \n",
        "    \n",
        "class KGene_fully_block(Model_):\n",
        "  def __init__(self, outsize, dropout, init_ref, trainable=True):\n",
        "    super(KGene_fully_block, self).__init__()\n",
        "    self.fc = Sequential([                        \n",
        "      Dense(outsize, kernel_initializer=init_ref, trainable=trainable),\n",
        "      ReLU(),\n",
        "      Dropout(dropout),\n",
        "    ])\n",
        "  def call(self, x):\n",
        "    return self.fc(x)\n",
        "\n",
        "class Generic32Batch_he(Model_):\n",
        "  def __init__(self, dropout=0.5, batchnorm=True, init_ref=\"he_uniform\"):\n",
        "    super(Generic32Batch_he, self).__init__()\n",
        "    self.conv1 = KGene_conv_b(32, padding='same', Batchnorm=batchnorm, init_ref=init_ref)\n",
        "    self.conv2 = KGene_conv_b(64,kernel=3, padding='same',pool=True, Batchnorm=batchnorm, init_ref=init_ref)\n",
        "    self.conv3 = KGene_conv_b(128,kernel=3, padding='same',init_ref=init_ref) \n",
        "    self.conv4 = KGene_conv_b(128,kernel=3, padding='same',init_ref=init_ref)\n",
        "    self.conv5 = KGene_conv_b(256,kernel=3, padding='same',init_ref=init_ref,pool=True)\n",
        "    self.flatt  = Flatten()\n",
        "    self.avg_pool = tf.keras.layers.AveragePooling2D(pool_size=(2,2))\n",
        "    self.fc1   = KGene_fully_block(1024,dropout, init_ref=init_ref)\n",
        "    self.fc2   = KGene_fully_block(1024,dropout, init_ref=init_ref, trainable=False)\n",
        "    self.out   = Dense(10)\n",
        "    self.softmax = Softmax()\n",
        "\n",
        "  def call(self, input_x):\n",
        "    x = self.conv1(input_x)\n",
        "    x = self.conv2(x)\n",
        "    x = self.conv3(x)\n",
        "    x = self.conv4(x)\n",
        "    x = self.conv5(x)\n",
        "    x = self.avg_pool(x)\n",
        "    x = self.flatt(x)  \n",
        "    x = self.fc1(x)\n",
        "    x = self.fc2(x)\n",
        "    \n",
        "    out = self.out(x)\n",
        "    out = self.softmax(out)\n",
        "    return out\n",
        "    "
      ],
      "execution_count": null,
      "outputs": []
    },
    {
      "cell_type": "code",
      "metadata": {
        "id": "LvnO6bWr-qj3"
      },
      "source": [
        "gmodel32fix = Generic32Batch_he()"
      ],
      "execution_count": null,
      "outputs": []
    },
    {
      "cell_type": "code",
      "metadata": {
        "colab": {
          "base_uri": "https://localhost:8080/"
        },
        "id": "RausxZwq-rEY",
        "outputId": "056c2249-fb7c-48d8-e236-0f73c7062fe3"
      },
      "source": [
        "gmodel32fix.compile(optimizer='adam', loss='sparse_categorical_crossentropy', metrics=['accuracy'])\n",
        "hist_genbefor = gmodel32fix.fit(x_train, y_train, batch_size=32, epochs=25, validation_data=(x_test, y_test))"
      ],
      "execution_count": null,
      "outputs": [
        {
          "output_type": "stream",
          "text": [
            "Epoch 1/25\n",
            "1563/1563 [==============================] - 16s 10ms/step - loss: 1.6796 - accuracy: 0.4145 - val_loss: 1.3789 - val_accuracy: 0.5211\n",
            "Epoch 2/25\n",
            "1563/1563 [==============================] - 16s 10ms/step - loss: 1.0146 - accuracy: 0.6518 - val_loss: 0.8986 - val_accuracy: 0.6935\n",
            "Epoch 3/25\n",
            "1563/1563 [==============================] - 16s 10ms/step - loss: 0.7969 - accuracy: 0.7321 - val_loss: 1.0503 - val_accuracy: 0.6461\n",
            "Epoch 4/25\n",
            "1563/1563 [==============================] - 16s 10ms/step - loss: 0.6642 - accuracy: 0.7785 - val_loss: 0.8489 - val_accuracy: 0.7188\n",
            "Epoch 5/25\n",
            "1563/1563 [==============================] - 16s 10ms/step - loss: 0.5630 - accuracy: 0.8147 - val_loss: 0.6487 - val_accuracy: 0.7827\n",
            "Epoch 6/25\n",
            "1563/1563 [==============================] - 16s 10ms/step - loss: 0.4969 - accuracy: 0.8371 - val_loss: 0.6073 - val_accuracy: 0.7977\n",
            "Epoch 7/25\n",
            "1563/1563 [==============================] - 16s 10ms/step - loss: 0.4290 - accuracy: 0.8586 - val_loss: 0.6403 - val_accuracy: 0.7974\n",
            "Epoch 8/25\n",
            "1563/1563 [==============================] - 16s 10ms/step - loss: 0.3742 - accuracy: 0.8763 - val_loss: 0.5367 - val_accuracy: 0.8257\n",
            "Epoch 9/25\n",
            "1563/1563 [==============================] - 16s 10ms/step - loss: 0.3241 - accuracy: 0.8924 - val_loss: 0.6315 - val_accuracy: 0.8022\n",
            "Epoch 10/25\n",
            "1563/1563 [==============================] - 16s 10ms/step - loss: 0.2924 - accuracy: 0.9025 - val_loss: 0.5841 - val_accuracy: 0.8166\n",
            "Epoch 11/25\n",
            "1563/1563 [==============================] - 16s 10ms/step - loss: 0.2553 - accuracy: 0.9149 - val_loss: 0.7638 - val_accuracy: 0.7768\n",
            "Epoch 12/25\n",
            "1563/1563 [==============================] - 16s 10ms/step - loss: 0.2287 - accuracy: 0.9229 - val_loss: 0.5739 - val_accuracy: 0.8336\n",
            "Epoch 13/25\n",
            "1563/1563 [==============================] - 16s 10ms/step - loss: 0.2105 - accuracy: 0.9311 - val_loss: 0.6003 - val_accuracy: 0.8251\n",
            "Epoch 14/25\n",
            "1563/1563 [==============================] - 16s 10ms/step - loss: 0.1831 - accuracy: 0.9395 - val_loss: 0.5232 - val_accuracy: 0.8482\n",
            "Epoch 15/25\n",
            "1563/1563 [==============================] - 16s 10ms/step - loss: 0.1691 - accuracy: 0.9444 - val_loss: 0.5535 - val_accuracy: 0.8386\n",
            "Epoch 16/25\n",
            "1563/1563 [==============================] - 16s 10ms/step - loss: 0.1544 - accuracy: 0.9486 - val_loss: 0.5829 - val_accuracy: 0.8390\n",
            "Epoch 17/25\n",
            "1563/1563 [==============================] - 16s 10ms/step - loss: 0.1416 - accuracy: 0.9536 - val_loss: 0.5773 - val_accuracy: 0.8464\n",
            "Epoch 18/25\n",
            "1563/1563 [==============================] - 16s 10ms/step - loss: 0.1341 - accuracy: 0.9566 - val_loss: 0.6772 - val_accuracy: 0.8364\n",
            "Epoch 19/25\n",
            "1563/1563 [==============================] - 16s 10ms/step - loss: 0.1234 - accuracy: 0.9601 - val_loss: 0.7824 - val_accuracy: 0.8034\n",
            "Epoch 20/25\n",
            "1563/1563 [==============================] - 16s 10ms/step - loss: 0.1173 - accuracy: 0.9625 - val_loss: 0.6412 - val_accuracy: 0.8473\n",
            "Epoch 21/25\n",
            "1563/1563 [==============================] - 16s 10ms/step - loss: 0.1137 - accuracy: 0.9631 - val_loss: 0.6646 - val_accuracy: 0.8417\n",
            "Epoch 22/25\n",
            "1563/1563 [==============================] - 16s 10ms/step - loss: 0.0984 - accuracy: 0.9680 - val_loss: 0.6931 - val_accuracy: 0.8440\n",
            "Epoch 23/25\n",
            "1563/1563 [==============================] - 16s 10ms/step - loss: 0.1022 - accuracy: 0.9683 - val_loss: 0.6835 - val_accuracy: 0.8436\n",
            "Epoch 24/25\n",
            "1563/1563 [==============================] - 16s 10ms/step - loss: 0.0947 - accuracy: 0.9699 - val_loss: 0.7055 - val_accuracy: 0.8345\n",
            "Epoch 25/25\n",
            "1563/1563 [==============================] - 16s 10ms/step - loss: 0.0882 - accuracy: 0.9719 - val_loss: 0.7177 - val_accuracy: 0.8433\n"
          ],
          "name": "stdout"
        }
      ]
    },
    {
      "cell_type": "markdown",
      "metadata": {
        "id": "DHQpx7s3An9y"
      },
      "source": [
        "# Fix last layer and Kaiming/he intializer "
      ]
    },
    {
      "cell_type": "code",
      "metadata": {
        "id": "wSDZfB-4-sqk"
      },
      "source": [
        "from tensorflow.keras.layers import BatchNormalization\n",
        "class KGene_conv_b(Model_):\n",
        "  def __init__(self, outchannel, kernel=3, stride=1, padding='valid', pool=False, Batchnorm=False, prebatch=True, init_ref=\"he_uniform\"):\n",
        "    super(KGene_conv_b, self).__init__() \n",
        "    layer_block = [Conv2D(outchannel, kernel_size=kernel, strides=stride, padding=padding, kernel_initializer=init_ref),ReLU()]\n",
        "    if pool:\n",
        "      layer_block.append(MaxPooling2D((3,3),strides=2))\n",
        "    if Batchnorm:\n",
        "      layer_block.append(BatchNormalization())\n",
        "    if prebatch:\n",
        "      layer_block = [Conv2D(outchannel, kernel_size=kernel, strides=stride, padding=padding, kernel_initializer=init_ref), BatchNormalization( ),\n",
        "                     ReLU()]\n",
        "      if pool:\n",
        "        layer_block.append(MaxPooling2D((3,3),strides=2))\n",
        "\n",
        "    self.conv = Sequential(layer_block)\n",
        "  def call(self, x):\n",
        "    conv = self.conv(x)\n",
        "    return conv\n",
        "  \n",
        "    \n",
        "class KGene_fully_block(Model_):\n",
        "  def __init__(self, outsize, dropout, init_ref, trainable=True):\n",
        "    super(KGene_fully_block, self).__init__()\n",
        "    self.fc = Sequential([                        \n",
        "      Dense(outsize, kernel_initializer=init_ref, trainable=trainable),\n",
        "      ReLU(),\n",
        "      Dropout(dropout),\n",
        "    ])\n",
        "  def call(self, x):\n",
        "    return self.fc(x)\n",
        "\n",
        "class Generic32Batch_hel(Model_):\n",
        "  def __init__(self, dropout=0.5, batchnorm=True, init_ref=\"he_uniform\"):\n",
        "    super(Generic32Batch_hel, self).__init__()\n",
        "    self.conv1 = KGene_conv_b(32, padding='same', Batchnorm=batchnorm, init_ref=init_ref)\n",
        "    self.conv2 = KGene_conv_b(64,kernel=3, padding='same',pool=True, Batchnorm=batchnorm, init_ref=init_ref)\n",
        "    self.conv3 = KGene_conv_b(128,kernel=3, padding='same',init_ref=init_ref) \n",
        "    self.conv4 = KGene_conv_b(128,kernel=3, padding='same',init_ref=init_ref)\n",
        "    self.conv5 = KGene_conv_b(256,kernel=3, padding='same',init_ref=init_ref,pool=True)\n",
        "    self.flatt  = Flatten()\n",
        "    self.avg_pool = tf.keras.layers.AveragePooling2D(pool_size=(2,2))\n",
        "    self.fc1   = KGene_fully_block(1024,dropout, init_ref=init_ref)\n",
        "    self.fc2   = KGene_fully_block(1024,dropout, init_ref=init_ref)\n",
        "    self.out   = Dense(10, trainable=False)\n",
        "    self.softmax = Softmax()\n",
        "\n",
        "  def call(self, input_x):\n",
        "    x = self.conv1(input_x)\n",
        "    x = self.conv2(x)\n",
        "    x = self.conv3(x)\n",
        "    x = self.conv4(x)\n",
        "    x = self.conv5(x)\n",
        "    x = self.avg_pool(x)\n",
        "    x = self.flatt(x)  \n",
        "    x = self.fc1(x)\n",
        "    x = self.fc2(x)\n",
        "    \n",
        "    out = self.out(x)\n",
        "    out = self.softmax(out)\n",
        "    return out\n",
        "    "
      ],
      "execution_count": null,
      "outputs": []
    },
    {
      "cell_type": "code",
      "metadata": {
        "id": "38Umdj3xABc1"
      },
      "source": [
        "gmodel32fix_last = Generic32Batch_hel()"
      ],
      "execution_count": null,
      "outputs": []
    },
    {
      "cell_type": "code",
      "metadata": {
        "colab": {
          "base_uri": "https://localhost:8080/"
        },
        "id": "R-TVBsgyAAE0",
        "outputId": "33eb4884-4ac3-46e3-d135-da6f18fb660c"
      },
      "source": [
        "gmodel32fix_last.compile(optimizer='adam', loss='sparse_categorical_crossentropy', metrics=['accuracy'])\n",
        "hist_last = gmodel32fix_last.fit(x_train, y_train, batch_size=32, epochs=25, validation_data=(x_test, y_test))"
      ],
      "execution_count": null,
      "outputs": [
        {
          "output_type": "stream",
          "text": [
            "Epoch 1/25\n",
            "1563/1563 [==============================] - 16s 11ms/step - loss: 1.7051 - accuracy: 0.4056 - val_loss: 1.2159 - val_accuracy: 0.5783\n",
            "Epoch 2/25\n",
            "1563/1563 [==============================] - 16s 10ms/step - loss: 1.0024 - accuracy: 0.6542 - val_loss: 0.8411 - val_accuracy: 0.6967\n",
            "Epoch 3/25\n",
            "1563/1563 [==============================] - 16s 10ms/step - loss: 0.7689 - accuracy: 0.7399 - val_loss: 0.6943 - val_accuracy: 0.7741\n",
            "Epoch 4/25\n",
            "1563/1563 [==============================] - 16s 10ms/step - loss: 0.6346 - accuracy: 0.7863 - val_loss: 0.6529 - val_accuracy: 0.7780\n",
            "Epoch 5/25\n",
            "1563/1563 [==============================] - 16s 10ms/step - loss: 0.5439 - accuracy: 0.8181 - val_loss: 0.5819 - val_accuracy: 0.8052\n",
            "Epoch 6/25\n",
            "1563/1563 [==============================] - 16s 10ms/step - loss: 0.4624 - accuracy: 0.8451 - val_loss: 0.5701 - val_accuracy: 0.8094\n",
            "Epoch 7/25\n",
            "1563/1563 [==============================] - 16s 10ms/step - loss: 0.3936 - accuracy: 0.8681 - val_loss: 0.6001 - val_accuracy: 0.8073\n",
            "Epoch 8/25\n",
            "1563/1563 [==============================] - 16s 10ms/step - loss: 0.3398 - accuracy: 0.8861 - val_loss: 0.4880 - val_accuracy: 0.8407\n",
            "Epoch 9/25\n",
            "1563/1563 [==============================] - 16s 10ms/step - loss: 0.2961 - accuracy: 0.9006 - val_loss: 0.5131 - val_accuracy: 0.8334\n",
            "Epoch 10/25\n",
            "1563/1563 [==============================] - 16s 10ms/step - loss: 0.2570 - accuracy: 0.9134 - val_loss: 0.5423 - val_accuracy: 0.8309\n",
            "Epoch 11/25\n",
            "1563/1563 [==============================] - 16s 10ms/step - loss: 0.2237 - accuracy: 0.9254 - val_loss: 0.6766 - val_accuracy: 0.7991\n",
            "Epoch 12/25\n",
            "1563/1563 [==============================] - 16s 10ms/step - loss: 0.1981 - accuracy: 0.9337 - val_loss: 0.5363 - val_accuracy: 0.8404\n",
            "Epoch 13/25\n",
            "1563/1563 [==============================] - 16s 10ms/step - loss: 0.1748 - accuracy: 0.9414 - val_loss: 0.5820 - val_accuracy: 0.8337\n",
            "Epoch 14/25\n",
            "1563/1563 [==============================] - 16s 10ms/step - loss: 0.1573 - accuracy: 0.9463 - val_loss: 0.5972 - val_accuracy: 0.8368\n",
            "Epoch 15/25\n",
            "1563/1563 [==============================] - 16s 10ms/step - loss: 0.1465 - accuracy: 0.9509 - val_loss: 0.6442 - val_accuracy: 0.8213\n",
            "Epoch 16/25\n",
            "1563/1563 [==============================] - 16s 10ms/step - loss: 0.1284 - accuracy: 0.9566 - val_loss: 0.6168 - val_accuracy: 0.8379\n",
            "Epoch 17/25\n",
            "1563/1563 [==============================] - 16s 10ms/step - loss: 0.1253 - accuracy: 0.9579 - val_loss: 0.5813 - val_accuracy: 0.8351\n",
            "Epoch 18/25\n",
            "1563/1563 [==============================] - 16s 10ms/step - loss: 0.1142 - accuracy: 0.9624 - val_loss: 0.6570 - val_accuracy: 0.8399\n",
            "Epoch 19/25\n",
            "1563/1563 [==============================] - 16s 10ms/step - loss: 0.1078 - accuracy: 0.9652 - val_loss: 0.5951 - val_accuracy: 0.8454\n",
            "Epoch 20/25\n",
            "1563/1563 [==============================] - 16s 10ms/step - loss: 0.0940 - accuracy: 0.9696 - val_loss: 0.7707 - val_accuracy: 0.8303\n",
            "Epoch 21/25\n",
            "1563/1563 [==============================] - 16s 10ms/step - loss: 0.0960 - accuracy: 0.9681 - val_loss: 0.6929 - val_accuracy: 0.8454\n",
            "Epoch 22/25\n",
            "1563/1563 [==============================] - 16s 10ms/step - loss: 0.0920 - accuracy: 0.9688 - val_loss: 0.6433 - val_accuracy: 0.8360\n",
            "Epoch 23/25\n",
            "1563/1563 [==============================] - 16s 10ms/step - loss: 0.0832 - accuracy: 0.9728 - val_loss: 0.6632 - val_accuracy: 0.8537\n",
            "Epoch 24/25\n",
            "1563/1563 [==============================] - 16s 10ms/step - loss: 0.0798 - accuracy: 0.9741 - val_loss: 0.7496 - val_accuracy: 0.8382\n",
            "Epoch 25/25\n",
            "1563/1563 [==============================] - 16s 10ms/step - loss: 0.0788 - accuracy: 0.9735 - val_loss: 0.7339 - val_accuracy: 0.8406\n"
          ],
          "name": "stdout"
        }
      ]
    },
    {
      "cell_type": "code",
      "metadata": {
        "id": "Joa_ZRwIAQ8O"
      },
      "source": [
        ""
      ],
      "execution_count": null,
      "outputs": []
    },
    {
      "cell_type": "markdown",
      "metadata": {
        "id": "H-kyzVFSCFkF"
      },
      "source": [
        "# Using normal distribution in the last layer and fix "
      ]
    },
    {
      "cell_type": "code",
      "metadata": {
        "id": "e7abfv7tCNtB"
      },
      "source": [
        "from tensorflow.keras.layers import BatchNormalization\n",
        "class KGene_conv_b(Model_):\n",
        "  def __init__(self, outchannel, kernel=3, stride=1, padding='valid', pool=False, Batchnorm=False, prebatch=True, init_ref=\"he_uniform\"):\n",
        "    super(KGene_conv_b, self).__init__() \n",
        "    layer_block = [Conv2D(outchannel, kernel_size=kernel, strides=stride, padding=padding, kernel_initializer=init_ref),ReLU()]\n",
        "    if pool:\n",
        "      layer_block.append(MaxPooling2D((3,3),strides=2))\n",
        "    if Batchnorm:\n",
        "      layer_block.append(BatchNormalization())\n",
        "    if prebatch:\n",
        "      layer_block = [Conv2D(outchannel, kernel_size=kernel, strides=stride, padding=padding, kernel_initializer=init_ref), BatchNormalization( ),\n",
        "                     ReLU()]\n",
        "      if pool:\n",
        "        layer_block.append(MaxPooling2D((3,3),strides=2))\n",
        "\n",
        "    self.conv = Sequential(layer_block)\n",
        "  def call(self, x):\n",
        "    conv = self.conv(x)\n",
        "    return conv\n",
        "  \n",
        "    \n",
        "class KGene_fully_block(Model_):\n",
        "  def __init__(self, outsize, dropout, init_ref, trainable=True):\n",
        "    super(KGene_fully_block, self).__init__()\n",
        "    self.fc = Sequential([                        \n",
        "      Dense(outsize, kernel_initializer=init_ref, trainable=trainable),\n",
        "      ReLU(),\n",
        "      Dropout(dropout),\n",
        "    ])\n",
        "  def call(self, x):\n",
        "    return self.fc(x)\n",
        "\n",
        "class Generic32Batch_hel_Nor(Model_):\n",
        "  def __init__(self, dropout=0.5, batchnorm=True, init_ref=\"he_uniform\"):\n",
        "    super(Generic32Batch_hel_Nor, self).__init__()\n",
        "    self.conv1 = KGene_conv_b(32, padding='same', Batchnorm=batchnorm, init_ref=init_ref)\n",
        "    self.conv2 = KGene_conv_b(64,kernel=3, padding='same',pool=True, Batchnorm=batchnorm, init_ref=init_ref)\n",
        "    self.conv3 = KGene_conv_b(128,kernel=3, padding='same',init_ref=init_ref) \n",
        "    self.conv4 = KGene_conv_b(128,kernel=3, padding='same',init_ref=init_ref)\n",
        "    self.conv5 = KGene_conv_b(256,kernel=3, padding='same',init_ref=init_ref,pool=True)\n",
        "    self.flatt  = Flatten()\n",
        "    self.avg_pool = tf.keras.layers.AveragePooling2D(pool_size=(2,2))\n",
        "    self.fc1   = KGene_fully_block(1024,dropout, init_ref=init_ref)\n",
        "    self.fc2   = KGene_fully_block(1024,dropout, init_ref=init_ref)\n",
        "    self.out   = Dense(10, trainable=False, kernel_initializer='random_normal')\n",
        "    self.softmax = Softmax()\n",
        "\n",
        "  def call(self, input_x):\n",
        "    x = self.conv1(input_x)\n",
        "    x = self.conv2(x)\n",
        "    x = self.conv3(x)\n",
        "    x = self.conv4(x)\n",
        "    x = self.conv5(x)\n",
        "    x = self.avg_pool(x)\n",
        "    x = self.flatt(x)  \n",
        "    x = self.fc1(x)\n",
        "    x = self.fc2(x)\n",
        "    \n",
        "    out = self.out(x)\n",
        "    out = self.softmax(out)\n",
        "    return out\n",
        "    "
      ],
      "execution_count": null,
      "outputs": []
    },
    {
      "cell_type": "code",
      "metadata": {
        "id": "dB6hmkgtCVvN"
      },
      "source": [
        "gmodel32fix_lastn = Generic32Batch_hel_Nor()"
      ],
      "execution_count": null,
      "outputs": []
    },
    {
      "cell_type": "code",
      "metadata": {
        "colab": {
          "base_uri": "https://localhost:8080/"
        },
        "id": "_YRxv9JwCk6k",
        "outputId": "06967511-e74a-466b-be3d-7376fd18d2e3"
      },
      "source": [
        "gmodel32fix_lastn.compile(optimizer='adam', loss='sparse_categorical_crossentropy', metrics=['accuracy'])\n",
        "hist_lastn = gmodel32fix_lastn.fit(x_train, y_train, batch_size=32, epochs=25, validation_data=(x_test, y_test))"
      ],
      "execution_count": null,
      "outputs": [
        {
          "output_type": "stream",
          "text": [
            "Epoch 1/25\n",
            "1563/1563 [==============================] - 16s 10ms/step - loss: 1.8495 - accuracy: 0.3453 - val_loss: 1.2358 - val_accuracy: 0.5549\n",
            "Epoch 2/25\n",
            "1563/1563 [==============================] - 16s 10ms/step - loss: 1.1230 - accuracy: 0.6076 - val_loss: 1.2934 - val_accuracy: 0.5662\n",
            "Epoch 3/25\n",
            "1563/1563 [==============================] - 16s 10ms/step - loss: 0.8281 - accuracy: 0.7203 - val_loss: 0.8158 - val_accuracy: 0.7241\n",
            "Epoch 4/25\n",
            "1563/1563 [==============================] - 16s 10ms/step - loss: 0.6668 - accuracy: 0.7743 - val_loss: 0.6496 - val_accuracy: 0.7820\n",
            "Epoch 5/25\n",
            "1563/1563 [==============================] - 16s 10ms/step - loss: 0.5595 - accuracy: 0.8127 - val_loss: 0.6316 - val_accuracy: 0.7904\n",
            "Epoch 6/25\n",
            "1563/1563 [==============================] - 16s 10ms/step - loss: 0.4733 - accuracy: 0.8423 - val_loss: 0.5558 - val_accuracy: 0.8142\n",
            "Epoch 7/25\n",
            "1563/1563 [==============================] - 16s 10ms/step - loss: 0.4106 - accuracy: 0.8632 - val_loss: 0.5992 - val_accuracy: 0.7996\n",
            "Epoch 8/25\n",
            "1563/1563 [==============================] - 16s 10ms/step - loss: 0.3542 - accuracy: 0.8814 - val_loss: 0.6117 - val_accuracy: 0.8009\n",
            "Epoch 9/25\n",
            "1563/1563 [==============================] - 16s 10ms/step - loss: 0.3005 - accuracy: 0.8994 - val_loss: 0.4966 - val_accuracy: 0.8441\n",
            "Epoch 10/25\n",
            "1563/1563 [==============================] - 16s 10ms/step - loss: 0.2660 - accuracy: 0.9107 - val_loss: 0.5349 - val_accuracy: 0.8256\n",
            "Epoch 11/25\n",
            "1563/1563 [==============================] - 16s 10ms/step - loss: 0.2326 - accuracy: 0.9211 - val_loss: 0.6304 - val_accuracy: 0.8073\n",
            "Epoch 12/25\n",
            "1563/1563 [==============================] - 16s 10ms/step - loss: 0.2016 - accuracy: 0.9321 - val_loss: 0.5896 - val_accuracy: 0.8286\n",
            "Epoch 13/25\n",
            "1563/1563 [==============================] - 16s 10ms/step - loss: 0.1792 - accuracy: 0.9382 - val_loss: 0.5751 - val_accuracy: 0.8363\n",
            "Epoch 14/25\n",
            "1563/1563 [==============================] - 16s 10ms/step - loss: 0.1627 - accuracy: 0.9456 - val_loss: 0.5946 - val_accuracy: 0.8418\n",
            "Epoch 15/25\n",
            "1563/1563 [==============================] - 16s 10ms/step - loss: 0.1459 - accuracy: 0.9511 - val_loss: 0.6042 - val_accuracy: 0.8344\n",
            "Epoch 16/25\n",
            "1563/1563 [==============================] - 16s 10ms/step - loss: 0.1348 - accuracy: 0.9555 - val_loss: 0.6175 - val_accuracy: 0.8459\n",
            "Epoch 17/25\n",
            "1563/1563 [==============================] - 16s 10ms/step - loss: 0.1278 - accuracy: 0.9583 - val_loss: 0.5654 - val_accuracy: 0.8507\n",
            "Epoch 18/25\n",
            "1563/1563 [==============================] - 16s 10ms/step - loss: 0.1149 - accuracy: 0.9626 - val_loss: 0.6378 - val_accuracy: 0.8394\n",
            "Epoch 19/25\n",
            "1563/1563 [==============================] - 16s 10ms/step - loss: 0.1067 - accuracy: 0.9650 - val_loss: 0.6825 - val_accuracy: 0.8389\n",
            "Epoch 20/25\n",
            "1563/1563 [==============================] - 16s 10ms/step - loss: 0.1014 - accuracy: 0.9672 - val_loss: 0.6868 - val_accuracy: 0.8307\n",
            "Epoch 21/25\n",
            "1563/1563 [==============================] - 16s 10ms/step - loss: 0.0953 - accuracy: 0.9683 - val_loss: 0.6473 - val_accuracy: 0.8442\n",
            "Epoch 22/25\n",
            "1563/1563 [==============================] - 16s 10ms/step - loss: 0.0938 - accuracy: 0.9690 - val_loss: 0.6867 - val_accuracy: 0.8272\n",
            "Epoch 23/25\n",
            "1563/1563 [==============================] - 16s 10ms/step - loss: 0.0914 - accuracy: 0.9703 - val_loss: 0.6265 - val_accuracy: 0.8502\n",
            "Epoch 24/25\n",
            "1563/1563 [==============================] - 16s 10ms/step - loss: 0.0838 - accuracy: 0.9729 - val_loss: 0.6647 - val_accuracy: 0.8544\n",
            "Epoch 25/25\n",
            "1563/1563 [==============================] - 16s 10ms/step - loss: 0.0794 - accuracy: 0.9744 - val_loss: 0.7629 - val_accuracy: 0.8280\n"
          ],
          "name": "stdout"
        }
      ]
    },
    {
      "cell_type": "code",
      "metadata": {
        "colab": {
          "base_uri": "https://localhost:8080/"
        },
        "id": "LLebDbGkCr3m",
        "outputId": "ad526bed-c370-429d-cf81-d819dfb6ee8f"
      },
      "source": [
        "optim = tf.keras.optimizers.Adam(lr=0.0002)\n",
        "gmodel32fixlastn = Generic32Batch_hel_Nor()\n",
        "gmodel32fixlastn.compile(optimizer= optim, loss='sparse_categorical_crossentropy', metrics=['accuracy'])\n",
        "hist_lastn1 = gmodel32fixlastn.fit(x_train, y_train, batch_size=32, epochs=25, validation_data=(x_test, y_test))"
      ],
      "execution_count": null,
      "outputs": [
        {
          "output_type": "stream",
          "text": [
            "Epoch 1/25\n",
            "   1/1563 [..............................] - ETA: 9s - loss: 6.1474 - accuracy: 0.1250WARNING:tensorflow:Callbacks method `on_train_batch_end` is slow compared to the batch time (batch time: 0.0071s vs `on_train_batch_end` time: 0.0114s). Check your callbacks.\n",
            "1563/1563 [==============================] - 16s 10ms/step - loss: 1.7573 - accuracy: 0.3811 - val_loss: 1.2757 - val_accuracy: 0.5401\n",
            "Epoch 2/25\n",
            "1563/1563 [==============================] - 16s 10ms/step - loss: 1.2418 - accuracy: 0.5602 - val_loss: 0.9663 - val_accuracy: 0.6662\n",
            "Epoch 3/25\n",
            "1563/1563 [==============================] - 16s 10ms/step - loss: 1.0048 - accuracy: 0.6522 - val_loss: 0.8093 - val_accuracy: 0.7215\n",
            "Epoch 4/25\n",
            "1563/1563 [==============================] - 16s 10ms/step - loss: 0.8535 - accuracy: 0.7061 - val_loss: 0.7667 - val_accuracy: 0.7356\n",
            "Epoch 5/25\n",
            "1563/1563 [==============================] - 16s 10ms/step - loss: 0.7318 - accuracy: 0.7502 - val_loss: 0.6773 - val_accuracy: 0.7675\n",
            "Epoch 6/25\n",
            "1563/1563 [==============================] - 16s 10ms/step - loss: 0.6447 - accuracy: 0.7809 - val_loss: 0.6091 - val_accuracy: 0.7940\n",
            "Epoch 7/25\n",
            "1563/1563 [==============================] - 16s 10ms/step - loss: 0.5625 - accuracy: 0.8093 - val_loss: 0.5789 - val_accuracy: 0.8022\n",
            "Epoch 8/25\n",
            "1563/1563 [==============================] - 16s 10ms/step - loss: 0.4950 - accuracy: 0.8321 - val_loss: 0.5865 - val_accuracy: 0.8007\n",
            "Epoch 9/25\n",
            "1563/1563 [==============================] - 16s 10ms/step - loss: 0.4321 - accuracy: 0.8550 - val_loss: 0.5739 - val_accuracy: 0.8097\n",
            "Epoch 10/25\n",
            "1563/1563 [==============================] - 16s 10ms/step - loss: 0.3743 - accuracy: 0.8738 - val_loss: 0.5850 - val_accuracy: 0.8090\n",
            "Epoch 11/25\n",
            "1563/1563 [==============================] - 16s 10ms/step - loss: 0.3287 - accuracy: 0.8879 - val_loss: 0.6079 - val_accuracy: 0.8020\n",
            "Epoch 12/25\n",
            "1563/1563 [==============================] - 16s 10ms/step - loss: 0.2802 - accuracy: 0.9040 - val_loss: 0.6410 - val_accuracy: 0.8119\n",
            "Epoch 13/25\n",
            "1563/1563 [==============================] - 16s 10ms/step - loss: 0.2469 - accuracy: 0.9161 - val_loss: 0.5730 - val_accuracy: 0.8225\n",
            "Epoch 14/25\n",
            "1563/1563 [==============================] - 16s 10ms/step - loss: 0.2135 - accuracy: 0.9269 - val_loss: 0.5601 - val_accuracy: 0.8342\n",
            "Epoch 15/25\n",
            "1563/1563 [==============================] - 16s 10ms/step - loss: 0.1862 - accuracy: 0.9362 - val_loss: 0.6506 - val_accuracy: 0.8257\n",
            "Epoch 16/25\n",
            "1563/1563 [==============================] - 16s 10ms/step - loss: 0.1625 - accuracy: 0.9447 - val_loss: 0.6797 - val_accuracy: 0.8218\n",
            "Epoch 17/25\n",
            "1563/1563 [==============================] - 16s 10ms/step - loss: 0.1422 - accuracy: 0.9523 - val_loss: 0.6483 - val_accuracy: 0.8236\n",
            "Epoch 18/25\n",
            "1563/1563 [==============================] - 16s 10ms/step - loss: 0.1313 - accuracy: 0.9565 - val_loss: 0.6526 - val_accuracy: 0.8356\n",
            "Epoch 19/25\n",
            "1563/1563 [==============================] - 16s 10ms/step - loss: 0.1115 - accuracy: 0.9622 - val_loss: 0.6864 - val_accuracy: 0.8272\n",
            "Epoch 20/25\n",
            "1563/1563 [==============================] - 16s 10ms/step - loss: 0.1058 - accuracy: 0.9651 - val_loss: 0.7144 - val_accuracy: 0.8269\n",
            "Epoch 21/25\n",
            "1563/1563 [==============================] - 16s 10ms/step - loss: 0.0984 - accuracy: 0.9670 - val_loss: 0.6878 - val_accuracy: 0.8350\n",
            "Epoch 22/25\n",
            "1563/1563 [==============================] - 16s 10ms/step - loss: 0.0907 - accuracy: 0.9686 - val_loss: 0.7481 - val_accuracy: 0.8258\n",
            "Epoch 23/25\n",
            "1563/1563 [==============================] - 16s 10ms/step - loss: 0.0826 - accuracy: 0.9728 - val_loss: 0.6897 - val_accuracy: 0.8397\n",
            "Epoch 24/25\n",
            "1563/1563 [==============================] - 16s 10ms/step - loss: 0.0810 - accuracy: 0.9731 - val_loss: 0.8081 - val_accuracy: 0.8252\n",
            "Epoch 25/25\n",
            "1563/1563 [==============================] - 16s 10ms/step - loss: 0.0753 - accuracy: 0.9744 - val_loss: 0.8161 - val_accuracy: 0.8302\n"
          ],
          "name": "stdout"
        }
      ]
    },
    {
      "cell_type": "code",
      "metadata": {
        "id": "XhjQQL91EwGv"
      },
      "source": [
        ""
      ],
      "execution_count": null,
      "outputs": []
    },
    {
      "cell_type": "markdown",
      "metadata": {
        "id": "1VcJKD1ZK-3h"
      },
      "source": [
        "# plotting the result "
      ]
    },
    {
      "cell_type": "code",
      "metadata": {
        "colab": {
          "background_save": true,
          "base_uri": "https://localhost:8080/",
          "height": 592
        },
        "id": "dSeIRBFwLCNr",
        "outputId": "4ee29faf-129d-42db-f945-dd6888c3671a"
      },
      "source": [
        "import matplotlib.pyplot as plt \n",
        "%matplotlib inline \n",
        "\n",
        "# plt.plot(hist[\"accuracy\"], 'r--', t, t**2, 'bs', t, t**3, 'g^')\n",
        "fig = plt.figure(figsize=(20,10))\n",
        "plt.plot(hist.history[\"accuracy\"], 'r--', label='kaiming_init')\n",
        "plt.plot(hist_norm.history[\"accuracy\"], 'bs', label='normal_ini')\n",
        "plt.plot(hist_genbefor.history[\"accuracy\"], '', label='Fix_before_last')\n",
        "plt.plot(hist_lastn.history[\"accuracy\"], '', label='Fix_head_normal')\n",
        "plt.legend('lower right',)\n",
        "plt.show()\n",
        " "
      ],
      "execution_count": null,
      "outputs": [
        {
          "output_type": "display_data",
          "data": {
            "image/png": "[encoded data removed]",
            "text/plain": [
              "<Figure size 1440x720 with 1 Axes>"
            ]
          },
          "metadata": {
            "tags": []
          }
        }
      ]
    },
    {
      "cell_type": "code",
      "metadata": {
        "id": "g99H43u-PO1N"
      },
      "source": [
        ""
      ],
      "execution_count": null,
      "outputs": []
    }
  ]
}